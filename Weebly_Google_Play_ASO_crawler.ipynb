{
  "nbformat": 4,
  "nbformat_minor": 0,
  "metadata": {
    "colab": {
      "name": "Weebly Google Play ASO crawler.ipynb",
      "provenance": [],
      "toc_visible": true,
      "include_colab_link": true
    },
    "kernelspec": {
      "name": "python3",
      "display_name": "Python 3"
    }
  },
  "cells": [
    {
      "cell_type": "markdown",
      "metadata": {
        "id": "view-in-github",
        "colab_type": "text"
      },
      "source": [
        "<a href=\"https://colab.research.google.com/github/huantp/DataCamp/blob/master/Weebly_Google_Play_ASO_crawler.ipynb\" target=\"_parent\"><img src=\"https://colab.research.google.com/assets/colab-badge.svg\" alt=\"Open In Colab\"/></a>"
      ]
    },
    {
      "cell_type": "markdown",
      "metadata": {
        "id": "FUzX6c8pYr0T"
      },
      "source": [
        "# Scraps Google Play app's info \n",
        "\n",
        "\n",
        "\n",
        "1.   Scraps Google Play's apps's info using keywwords\n",
        "2.   Sorts apps's according to the number of reviews,etc.\n",
        "\n"
      ]
    },
    {
      "cell_type": "code",
      "metadata": {
        "colab": {
          "base_uri": "https://localhost:8080/"
        },
        "id": "W08SAJtdm2XX",
        "outputId": "76b10d00-0494-474e-f018-dc037a8c6c99"
      },
      "source": [
        "#Mount's Google Drive\n",
        "from google.colab import drive\n",
        "drive.mount('/content/drive')"
      ],
      "execution_count": null,
      "outputs": [
        {
          "output_type": "stream",
          "text": [
            "Mounted at /content/drive\n"
          ],
          "name": "stdout"
        }
      ]
    },
    {
      "cell_type": "code",
      "metadata": {
        "colab": {
          "base_uri": "https://localhost:8080/"
        },
        "id": "LZU44pBYW8_W",
        "outputId": "546dadc5-7c19-4f68-eec5-e1d362470a82"
      },
      "source": [
        "#Function: Installs the API that scraps GooglePlay\n",
        "!pip install google-play-scraper"
      ],
      "execution_count": null,
      "outputs": [
        {
          "output_type": "stream",
          "text": [
            "Collecting google-play-scraper\n",
            "\u001b[?25l  Downloading https://files.pythonhosted.org/packages/ac/de/87c97ba42c156e53f0eb67a2b68a13d6f77da98d24f6d52f70c631c8e526/google-play-scraper-0.1.2.tar.gz (49kB)\n",
            "\r\u001b[K     |██████▋                         | 10kB 15.0MB/s eta 0:00:01\r\u001b[K     |█████████████▎                  | 20kB 10.3MB/s eta 0:00:01\r\u001b[K     |████████████████████            | 30kB 7.5MB/s eta 0:00:01\r\u001b[K     |██████████████████████████▌     | 40kB 6.6MB/s eta 0:00:01\r\u001b[K     |████████████████████████████████| 51kB 2.5MB/s \n",
            "\u001b[?25hBuilding wheels for collected packages: google-play-scraper\n",
            "  Building wheel for google-play-scraper (setup.py) ... \u001b[?25l\u001b[?25hdone\n",
            "  Created wheel for google-play-scraper: filename=google_play_scraper-0.1.2-cp36-none-any.whl size=22280 sha256=9b6fd12ce03a8771a31abd38a64cd78bf1fbbfef49d4a084365d31000dc967d4\n",
            "  Stored in directory: /root/.cache/pip/wheels/c3/0c/dc/847f7da787b7d2c28b26a5062f86eac3f16a8cb0bdfdc1f308\n",
            "Successfully built google-play-scraper\n",
            "Installing collected packages: google-play-scraper\n",
            "Successfully installed google-play-scraper-0.1.2\n"
          ],
          "name": "stdout"
        }
      ]
    },
    {
      "cell_type": "code",
      "metadata": {
        "id": "CKZLo_wrD8pj",
        "colab": {
          "base_uri": "https://localhost:8080/",
          "height": 318
        },
        "outputId": "492ee7ff-0693-4dab-f13c-7fc1ea64e031"
      },
      "source": [
        "#Function: Gets GP data for list of countries, languages, keywords\n",
        "\n",
        "\n",
        "#Import modules \n",
        "from bs4 import BeautifulSoup\n",
        "from google_play_scraper import app\n",
        "import pandas as pd\n",
        "import requests\n",
        "import re\n",
        "from google.colab import files\n",
        "from datetime import date\n",
        "from collections import OrderedDict\n",
        "\n",
        "\n",
        "\n",
        "\n",
        "def get_gp(keyword_1,keyword_2):\n",
        "  '''gets data from google play based on keywords and \n",
        "  three countries (Germany, France, Italy')'''\n",
        "\n",
        "  gp_words = [keyword_1,keyword_2]\n",
        "  languages = ['de' ,'fr','it'] #We will add all the countries\n",
        "  countries = ['de' ,'fr','it']\n",
        "\n",
        "  #Lists created by looping over variables and extraction app\n",
        "  app_list = [] #Addresses of each app\n",
        "  df_list = []  #List of dataframes. Each dataframe has its own keyword, language and country\n",
        "  #Extracting data\n",
        "  for kword in gp_words:\n",
        "    for kcoun in countries:\n",
        "      r = requests.get(f'https://play.google.com/store/search?q={kword}&c=apps&hl={kcoun}&gl={kcoun}') #Not use country for both language and country to avoid overcomplicate it\n",
        "      soup = BeautifulSoup(r.text) \n",
        "      txt=soup.prettify()\n",
        "      pattern = \"(com..*?)\\,7\"  #Gets all the adresses coming bedore /7 and starting with com. Tocheck: is it 100% precise?\n",
        "      addresses=re.findall(pattern,txt)\n",
        "      addresses = list(OrderedDict.fromkeys(addresses)) #Delete duplicates and keep order\n",
        "      #We apply the API app and choose country and language\n",
        "      for address in addresses:\n",
        "        try:\n",
        "          result = app(address,lang= kcoun, country= kcoun) #We set the same language and country to reduce amount of data\n",
        "          app_list.append(result)\n",
        "          df= pd.DataFrame(app_list)\n",
        "          df['keyword'] = kword\n",
        "          #df['language'] = language Don't add to avoid over complicate data\n",
        "          df['country'] = kcoun\n",
        "          #df['rank'] = enumerate(address) #To_do: check if they can be ranked by popularity.\n",
        "          df['info_extracted'] =pd.to_datetime(\"today\") #To_do: If True not fill it up (so doesn't superseed the former date)\n",
        "          df_list.append(df)\n",
        "        except :   #This why we might/or not lose some data\n",
        "          continue\n",
        "        else:\n",
        "         continue\n",
        "\n",
        "  df = pd.concat(df_list) #We concatenate the list of dataframes so we can have one datafra\n",
        "  df = df.drop_duplicates(subset='title', keep=\"first\") #We are dropping thousands of duplicates. \n",
        "  \n",
        "  return df\n",
        "\n",
        "#Gets data and display first two rows\n",
        "df = get_gp('Poker','Casino') #Function that scrapes Google Play\n",
        "df.head(2)"
      ],
      "execution_count": 7,
      "outputs": [
        {
          "output_type": "execute_result",
          "data": {
            "text/html": [
              "<div>\n",
              "<style scoped>\n",
              "    .dataframe tbody tr th:only-of-type {\n",
              "        vertical-align: middle;\n",
              "    }\n",
              "\n",
              "    .dataframe tbody tr th {\n",
              "        vertical-align: top;\n",
              "    }\n",
              "\n",
              "    .dataframe thead th {\n",
              "        text-align: right;\n",
              "    }\n",
              "</style>\n",
              "<table border=\"1\" class=\"dataframe\">\n",
              "  <thead>\n",
              "    <tr style=\"text-align: right;\">\n",
              "      <th></th>\n",
              "      <th>title</th>\n",
              "      <th>description</th>\n",
              "      <th>descriptionHTML</th>\n",
              "      <th>summary</th>\n",
              "      <th>summaryHTML</th>\n",
              "      <th>installs</th>\n",
              "      <th>minInstalls</th>\n",
              "      <th>score</th>\n",
              "      <th>ratings</th>\n",
              "      <th>reviews</th>\n",
              "      <th>histogram</th>\n",
              "      <th>price</th>\n",
              "      <th>free</th>\n",
              "      <th>currency</th>\n",
              "      <th>sale</th>\n",
              "      <th>saleTime</th>\n",
              "      <th>originalPrice</th>\n",
              "      <th>saleText</th>\n",
              "      <th>offersIAP</th>\n",
              "      <th>inAppProductPrice</th>\n",
              "      <th>size</th>\n",
              "      <th>androidVersion</th>\n",
              "      <th>androidVersionText</th>\n",
              "      <th>developer</th>\n",
              "      <th>developerId</th>\n",
              "      <th>developerEmail</th>\n",
              "      <th>developerWebsite</th>\n",
              "      <th>developerAddress</th>\n",
              "      <th>privacyPolicy</th>\n",
              "      <th>developerInternalID</th>\n",
              "      <th>genre</th>\n",
              "      <th>genreId</th>\n",
              "      <th>icon</th>\n",
              "      <th>headerImage</th>\n",
              "      <th>screenshots</th>\n",
              "      <th>video</th>\n",
              "      <th>videoImage</th>\n",
              "      <th>contentRating</th>\n",
              "      <th>contentRatingDescription</th>\n",
              "      <th>adSupported</th>\n",
              "      <th>containsAds</th>\n",
              "      <th>released</th>\n",
              "      <th>updated</th>\n",
              "      <th>version</th>\n",
              "      <th>recentChanges</th>\n",
              "      <th>recentChangesHTML</th>\n",
              "      <th>comments</th>\n",
              "      <th>editorsChoice</th>\n",
              "      <th>appId</th>\n",
              "      <th>url</th>\n",
              "      <th>keyword</th>\n",
              "      <th>country</th>\n",
              "      <th>info_extracted</th>\n",
              "    </tr>\n",
              "  </thead>\n",
              "  <tbody>\n",
              "    <tr>\n",
              "      <th>0</th>\n",
              "      <td>Zynga Poker: Texas Holdem - Online Casino Spie...</td>\n",
              "      <td>Mach mit bei einem der beliebtesten kostenlose...</td>\n",
              "      <td>Mach mit bei einem der beliebtesten kostenlose...</td>\n",
              "      <td>Gewinne groß und besiege deine Freunde! Spiele...</td>\n",
              "      <td>Gewinne groß und besiege deine Freunde! Spiele...</td>\n",
              "      <td>50.000.000+</td>\n",
              "      <td>50000000</td>\n",
              "      <td>4.293116</td>\n",
              "      <td>2550733.0</td>\n",
              "      <td>738401</td>\n",
              "      <td>[284221, 49432, 109222, 299446, 1808412]</td>\n",
              "      <td>0</td>\n",
              "      <td>True</td>\n",
              "      <td>USD</td>\n",
              "      <td>False</td>\n",
              "      <td>None</td>\n",
              "      <td>None</td>\n",
              "      <td>None</td>\n",
              "      <td>True</td>\n",
              "      <td>0,86 € bis 344,00 € pro Artikel</td>\n",
              "      <td>97M</td>\n",
              "      <td>4.4</td>\n",
              "      <td>4.4 oder höher</td>\n",
              "      <td>Zynga</td>\n",
              "      <td>6690081412016968981</td>\n",
              "      <td>android.support@zynga.com</td>\n",
              "      <td>https://www.zynga.com/</td>\n",
              "      <td>699 8th Street, San Francisco. CA</td>\n",
              "      <td>https://www.zynga.com/privacy/policy</td>\n",
              "      <td>6690081412016968981</td>\n",
              "      <td>Casino</td>\n",
              "      <td>GAME_CASINO</td>\n",
              "      <td>https://play-lh.googleusercontent.com/JYfNHIlJ...</td>\n",
              "      <td>https://play-lh.googleusercontent.com/Ixm355D7...</td>\n",
              "      <td>[https://play-lh.googleusercontent.com/A5g-2cU...</td>\n",
              "      <td>None</td>\n",
              "      <td>None</td>\n",
              "      <td>USK ab 16 Jahren</td>\n",
              "      <td>None</td>\n",
              "      <td>True</td>\n",
              "      <td>True</td>\n",
              "      <td>21.12.2010</td>\n",
              "      <td>1613079013</td>\n",
              "      <td>22.07</td>\n",
              "      <td>Das ist neu in Zynga Poker:\\r\\n– NEUE Winterwu...</td>\n",
              "      <td>Das ist neu in Zynga Poker:&lt;br&gt;– NEUE Winterwu...</td>\n",
              "      <td>[]</td>\n",
              "      <td>False</td>\n",
              "      <td>com.zynga.livepoker</td>\n",
              "      <td>https://play.google.com/store/apps/details?id=...</td>\n",
              "      <td>Poker</td>\n",
              "      <td>de</td>\n",
              "      <td>2021-02-12 19:01:41.507604</td>\n",
              "    </tr>\n",
              "    <tr>\n",
              "      <th>1</th>\n",
              "      <td>Governor of Poker 3 : Texas Holdem mit Freunden</td>\n",
              "      <td>&lt;b&gt;Bekannt aus dem TV!&lt;/b&gt;\\r\\nSpiele Online-Po...</td>\n",
              "      <td>&lt;b&gt;Bekannt aus dem TV!&lt;/b&gt;&lt;br&gt;Spiele Online-Po...</td>\n",
              "      <td>Kostenloses Kartenspiel Multiplayer-Texas-Hold...</td>\n",
              "      <td>Kostenloses Kartenspiel Multiplayer-Texas-Hold...</td>\n",
              "      <td>5.000.000+</td>\n",
              "      <td>5000000</td>\n",
              "      <td>4.278679</td>\n",
              "      <td>253761.0</td>\n",
              "      <td>71339</td>\n",
              "      <td>[29270, 6023, 10212, 27465, 180791]</td>\n",
              "      <td>0</td>\n",
              "      <td>True</td>\n",
              "      <td>USD</td>\n",
              "      <td>False</td>\n",
              "      <td>None</td>\n",
              "      <td>None</td>\n",
              "      <td>None</td>\n",
              "      <td>True</td>\n",
              "      <td>0,99 € bis 199,99 € pro Artikel</td>\n",
              "      <td>124M</td>\n",
              "      <td>4.4</td>\n",
              "      <td>4.4 oder höher</td>\n",
              "      <td>Youda Games Holding B.V.</td>\n",
              "      <td>7639378078513286726</td>\n",
              "      <td>support@governorofpoker.com</td>\n",
              "      <td>http://www.governorofpoker.com</td>\n",
              "      <td>Beechavenue 182\\n1119 PX Schiphol-Rijk\\nThe Ne...</td>\n",
              "      <td>http://www.governorofpoker.com/privacy/</td>\n",
              "      <td>7639378078513286726</td>\n",
              "      <td>Kartenspiele</td>\n",
              "      <td>GAME_CARD</td>\n",
              "      <td>https://play-lh.googleusercontent.com/rq6H2UQ1...</td>\n",
              "      <td>https://play-lh.googleusercontent.com/C-STOMc3...</td>\n",
              "      <td>[https://play-lh.googleusercontent.com/nrd0sI1...</td>\n",
              "      <td>https://www.youtube.com/embed/NOAJafeNLfE?ps=p...</td>\n",
              "      <td>https://i.ytimg.com/vi/NOAJafeNLfE/hqdefault.jpg</td>\n",
              "      <td>USK ab 16 Jahren</td>\n",
              "      <td>None</td>\n",
              "      <td>True</td>\n",
              "      <td>True</td>\n",
              "      <td>29.09.2014</td>\n",
              "      <td>1612456543</td>\n",
              "      <td>7.6.0</td>\n",
              "      <td>This Governor of Poker 3 update brings:\\r\\n- P...</td>\n",
              "      <td>This Governor of Poker 3 update brings:&lt;br&gt;- P...</td>\n",
              "      <td>[]</td>\n",
              "      <td>False</td>\n",
              "      <td>com.youdagames.gop3multiplayer</td>\n",
              "      <td>https://play.google.com/store/apps/details?id=...</td>\n",
              "      <td>Poker</td>\n",
              "      <td>de</td>\n",
              "      <td>2021-02-12 19:01:41.687465</td>\n",
              "    </tr>\n",
              "  </tbody>\n",
              "</table>\n",
              "</div>"
            ],
            "text/plain": [
              "                                               title  ...             info_extracted\n",
              "0  Zynga Poker: Texas Holdem - Online Casino Spie...  ... 2021-02-12 19:01:41.507604\n",
              "1    Governor of Poker 3 : Texas Holdem mit Freunden  ... 2021-02-12 19:01:41.687465\n",
              "\n",
              "[2 rows x 53 columns]"
            ]
          },
          "metadata": {
            "tags": []
          },
          "execution_count": 7
        }
      ]
    },
    {
      "cell_type": "code",
      "metadata": {
        "id": "KWQPVSgx5rob"
      },
      "source": [
        "#We store raw data on csv in GoogleDrive\n",
        "import glob\n",
        "from google.colab import files\n",
        "\n",
        "\n",
        "#Converts file to csv and names it according data\n",
        "today = pd.to_datetime(\"today\").strftime('%Y-%m-%d')\n",
        "file_title = f'df_gp_raw_{today}.csv'\n",
        "df.to_csv(file_title)\n",
        "\n",
        "\n"
      ],
      "execution_count": null,
      "outputs": []
    },
    {
      "cell_type": "code",
      "metadata": {
        "id": "m7n_-fdblaMM"
      },
      "source": [
        "#Stores the csv on your google drive\n",
        "#Todo: this file-name still needs to be written manually,change to automatic\n",
        "#Note: needs to write your own pathfile after .csv'\n",
        "\n",
        "!cp 'df_gp_raw_2021-02-12.csv' '/content/drive/MyDrive/1  Python & Data Science /Weebly Python'  #To_do: avoid writing the finle name as string\n"
      ],
      "execution_count": 9,
      "outputs": []
    },
    {
      "cell_type": "markdown",
      "metadata": {
        "id": "D7Fzq5ExB0i9"
      },
      "source": [
        "#Updates data, cleans it and produce final dataframe\n",
        "\n",
        "\n",
        "1.   Loads old csv\n",
        "2.   Concatenates it with new csv data\n",
        "1.   Chooses columns/info we want to analyse in detail\n",
        "2.   Cleans up info/format\n",
        "1.   Exports it to csv\n",
        "\n"
      ]
    },
    {
      "cell_type": "code",
      "metadata": {
        "id": "iebdKoUp_-fM",
        "colab": {
          "base_uri": "https://localhost:8080/"
        },
        "outputId": "413cab19-4d03-4a12-aad9-a6252739fbe1"
      },
      "source": [
        "#Gets list of similar files in our Google Drive\n",
        "data_files = glob.glob(\"/content/drive/MyDrive/1  Python & Data Science /Weebly Python/df_gp_raw*\")\n",
        "file_oldest = data_files[0] #We get the df stored\n",
        "#Note: we subset the csv to get key = title, reviews, ratings, score for future analysis\n",
        "\n",
        "data_files"
      ],
      "execution_count": 10,
      "outputs": [
        {
          "output_type": "execute_result",
          "data": {
            "text/plain": [
              "['/content/drive/MyDrive/1  Python & Data Science /Weebly Python/df_gp_raw_2021-02-02.csv',\n",
              " '/content/drive/MyDrive/1  Python & Data Science /Weebly Python/df_gp_raw_2021-02-12.csv']"
            ]
          },
          "metadata": {
            "tags": []
          },
          "execution_count": 10
        }
      ]
    },
    {
      "cell_type": "code",
      "metadata": {
        "id": "a0VuJucIBfP3",
        "colab": {
          "base_uri": "https://localhost:8080/"
        },
        "outputId": "ce68db06-9b89-492e-9e95-da3fb310ebb3"
      },
      "source": [
        "#Cleans up data\n",
        "\n",
        "#We get new data \n",
        "df_old = pd.read_csv(file_oldest) #Drive is already mounted #Check formats (datetime) are correct\n",
        "df_new = df.copy() \n",
        "\n",
        "#Dates: \n",
        "  #Make sure info-extracted is properly formated to date time, fill nan values\n",
        "df_old['info_extracted_date'] = df_old['info_extracted'].fillna(method='ffill')\n",
        "df_new['info_extracted_date'] = df_new['info_extracted'].fillna(method='ffill')\n",
        "\n",
        "df_old['info_extracted_date']= pd.to_datetime(df_old['info_extracted_date'], errors = 'coerce')\n",
        "df_new['info_extracted_date']= pd.to_datetime(df_new['info_extracted_date'], errors = 'coerce')\n",
        "\n",
        "\n",
        "#Column installs. Delete string and convert to number\n",
        "df_old[\"installs_n\"] = df_old['installs'].str.replace(r'\\D', '')\n",
        "df_new[\"installs_n\"] = df_old['installs'].str.replace(r'\\D', '')\n",
        "\n",
        "df_old[\"installs_n\"] = pd.to_numeric(df_old[\"installs_n\"])\n",
        "df_new[\"installs_n\"] = pd.to_numeric(df_new[\"installs_n\"])\n",
        "\n",
        "\n",
        "#Column size. Deletes string an dconvert to number\n",
        "df_old['size_n'] = df_old['size'].str.replace(r'\\D', '')\n",
        "df_new['size_n'] = df_new['size'].str.replace(r'\\D', '')\n",
        "\n",
        "#We drop nan values for these columns\n",
        "df_old.dropna(subset=['title', 'ratings','reviews'],how ='any')\n",
        "df_new.dropna(subset=['title', 'ratings','reviews'],how ='any')\n",
        "\n",
        "print('(important) data cleaned up')\n"
      ],
      "execution_count": 14,
      "outputs": [
        {
          "output_type": "stream",
          "text": [
            "(important) data cleaned up\n"
          ],
          "name": "stdout"
        }
      ]
    },
    {
      "cell_type": "markdown",
      "metadata": {
        "id": "l1-xgAsGchrd"
      },
      "source": [
        "# Analyses growth in ratings, reviews"
      ]
    },
    {
      "cell_type": "code",
      "metadata": {
        "id": "jFkXD0x6ERhT",
        "colab": {
          "base_uri": "https://localhost:8080/",
          "height": 145
        },
        "outputId": "715f004d-3954-4146-d45a-0b54e3c565bb"
      },
      "source": [
        "import numpy as np\n",
        "\n",
        "\n",
        "#Select key_growth: columns needed to analyse growth of the app\n",
        "\n",
        "#To_do:optimize selection of columns\n",
        "key_growth =['title','country','installs_n','score','ratings',\n",
        "          'reviews','size_n','developer',\n",
        "          'released','info_extracted_date']\n",
        "\n",
        "keys_gr_merge =['title','country','installs_n',\n",
        "           'size_n','developer','released'] \n",
        "\n",
        "#Subset raw data to analyse it for growth\n",
        "df_n = df_new[key_growth] \n",
        "df_o =df_old[key_growth]\n",
        "\n",
        "\n",
        "\n",
        "#merge both dataframes\n",
        "df_merged = pd.merge(df_n, df_o, how=\"left\", on = keys_gr_merge )\n",
        "\n",
        "\n",
        "#Get the differences of reviews, ratings\n",
        "df_merged['reviews_diff'] = df_merged['reviews_x']-df_merged['reviews_y']\n",
        "df_merged['ratings_diff'] = df_merged['ratings_x']-df_merged['ratings_y']\n",
        "oneday = pd.Timedelta(days=1)\n",
        "#df_merged['diff_days'] = (df_merged['info_extracted_x']-result['info_extracted_y'])/np.timedelta64(1, 'D') #Sure this is days?\n",
        "df_merged['diff_days'] = (df_merged['info_extracted_date_x']-df_merged['info_extracted_date_y']).dt.days\n",
        "\n",
        "#NOTE: REVIEW THIS 2020/2/4\n",
        "if df_merged['diff_days'].any()<1:\n",
        "  df_merged['diff_days'] = 1\n",
        "else:\n",
        "  pass\n",
        "\n",
        "df_merged['reviews_by_day'] =df_merged['reviews_diff']/df_merged['diff_days']\n",
        "df_merged['ratings_by_day'] =df_merged['ratings_diff']/df_merged['diff_days']\n",
        "\n",
        "#Selects the columns we are interested to analyse growth by reviews and ratings\n",
        "df_growth = df_merged[['title','country','installs_n','size_n','developer',\n",
        "                   'released','reviews_by_day','ratings_by_day']]\n",
        "\n",
        "df_growth.head(2)\n"
      ],
      "execution_count": 15,
      "outputs": [
        {
          "output_type": "execute_result",
          "data": {
            "text/html": [
              "<div>\n",
              "<style scoped>\n",
              "    .dataframe tbody tr th:only-of-type {\n",
              "        vertical-align: middle;\n",
              "    }\n",
              "\n",
              "    .dataframe tbody tr th {\n",
              "        vertical-align: top;\n",
              "    }\n",
              "\n",
              "    .dataframe thead th {\n",
              "        text-align: right;\n",
              "    }\n",
              "</style>\n",
              "<table border=\"1\" class=\"dataframe\">\n",
              "  <thead>\n",
              "    <tr style=\"text-align: right;\">\n",
              "      <th></th>\n",
              "      <th>title</th>\n",
              "      <th>country</th>\n",
              "      <th>installs_n</th>\n",
              "      <th>size_n</th>\n",
              "      <th>developer</th>\n",
              "      <th>released</th>\n",
              "      <th>reviews_by_day</th>\n",
              "      <th>ratings_by_day</th>\n",
              "    </tr>\n",
              "  </thead>\n",
              "  <tbody>\n",
              "    <tr>\n",
              "      <th>0</th>\n",
              "      <td>Zynga Poker: Texas Holdem - Online Casino Spie...</td>\n",
              "      <td>de</td>\n",
              "      <td>50000000.0</td>\n",
              "      <td>97</td>\n",
              "      <td>Zynga</td>\n",
              "      <td>21.12.2010</td>\n",
              "      <td>134.4</td>\n",
              "      <td>372.1</td>\n",
              "    </tr>\n",
              "    <tr>\n",
              "      <th>1</th>\n",
              "      <td>Governor of Poker 3 : Texas Holdem mit Freunden</td>\n",
              "      <td>de</td>\n",
              "      <td>1000000.0</td>\n",
              "      <td>124</td>\n",
              "      <td>Youda Games Holding B.V.</td>\n",
              "      <td>29.09.2014</td>\n",
              "      <td>NaN</td>\n",
              "      <td>NaN</td>\n",
              "    </tr>\n",
              "  </tbody>\n",
              "</table>\n",
              "</div>"
            ],
            "text/plain": [
              "                                               title  ... ratings_by_day\n",
              "0  Zynga Poker: Texas Holdem - Online Casino Spie...  ...          372.1\n",
              "1    Governor of Poker 3 : Texas Holdem mit Freunden  ...            NaN\n",
              "\n",
              "[2 rows x 8 columns]"
            ]
          },
          "metadata": {
            "tags": []
          },
          "execution_count": 15
        }
      ]
    },
    {
      "cell_type": "code",
      "metadata": {
        "colab": {
          "base_uri": "https://localhost:8080/",
          "height": 145
        },
        "id": "VctygLEAaOj-",
        "outputId": "80dcc379-bb97-48d1-c2b9-33aa79b383a2"
      },
      "source": [
        "#Analyses growth in terms of number of reviews and ratings\n",
        "\n",
        "import numpy as np\n",
        "\n",
        "#merge both dataframes\n",
        "df_merged = pd.merge(df_n, df_o, how=\"left\", on = keys_gr_merge )\n",
        "\n",
        "\n",
        "#Get the differences of reviews, ratings\n",
        "df_merged['reviews_diff'] = df_merged['reviews_x']-df_merged['reviews_y']\n",
        "df_merged['ratings_diff'] = df_merged['ratings_x']-df_merged['ratings_y']\n",
        "oneday = pd.Timedelta(days=1)\n",
        "#df_merged['diff_days'] = (df_merged['info_extracted_x']-result['info_extracted_y'])/np.timedelta64(1, 'D') #Sure this is days?\n",
        "df_merged['diff_days'] = (df_merged['info_extracted_date_x']-df_merged['info_extracted_date_y']).dt.days\n",
        "\n",
        "#NOTE: REVIEW THIS 2020/2/4\n",
        "if df_merged['diff_days'].any()<1:\n",
        "  df_merged['diff_days'] = 1\n",
        "else:\n",
        "  pass\n",
        "\n",
        "df_merged['reviews_by_day'] =df_merged['reviews_diff']/df_merged['diff_days']\n",
        "df_merged['ratings_by_day'] =df_merged['ratings_diff']/df_merged['diff_days']\n",
        "\n",
        "\n",
        "df_growth = df_merged[['title','country','installs_n','size_n','developer',\n",
        "                   'released','reviews_by_day','ratings_by_day']]\n",
        "\n",
        "df_growth.head(2)"
      ],
      "execution_count": 17,
      "outputs": [
        {
          "output_type": "execute_result",
          "data": {
            "text/html": [
              "<div>\n",
              "<style scoped>\n",
              "    .dataframe tbody tr th:only-of-type {\n",
              "        vertical-align: middle;\n",
              "    }\n",
              "\n",
              "    .dataframe tbody tr th {\n",
              "        vertical-align: top;\n",
              "    }\n",
              "\n",
              "    .dataframe thead th {\n",
              "        text-align: right;\n",
              "    }\n",
              "</style>\n",
              "<table border=\"1\" class=\"dataframe\">\n",
              "  <thead>\n",
              "    <tr style=\"text-align: right;\">\n",
              "      <th></th>\n",
              "      <th>title</th>\n",
              "      <th>country</th>\n",
              "      <th>installs_n</th>\n",
              "      <th>size_n</th>\n",
              "      <th>developer</th>\n",
              "      <th>released</th>\n",
              "      <th>reviews_by_day</th>\n",
              "      <th>ratings_by_day</th>\n",
              "    </tr>\n",
              "  </thead>\n",
              "  <tbody>\n",
              "    <tr>\n",
              "      <th>0</th>\n",
              "      <td>Zynga Poker: Texas Holdem - Online Casino Spie...</td>\n",
              "      <td>de</td>\n",
              "      <td>50000000.0</td>\n",
              "      <td>97</td>\n",
              "      <td>Zynga</td>\n",
              "      <td>21.12.2010</td>\n",
              "      <td>134.4</td>\n",
              "      <td>372.1</td>\n",
              "    </tr>\n",
              "    <tr>\n",
              "      <th>1</th>\n",
              "      <td>Governor of Poker 3 : Texas Holdem mit Freunden</td>\n",
              "      <td>de</td>\n",
              "      <td>1000000.0</td>\n",
              "      <td>124</td>\n",
              "      <td>Youda Games Holding B.V.</td>\n",
              "      <td>29.09.2014</td>\n",
              "      <td>NaN</td>\n",
              "      <td>NaN</td>\n",
              "    </tr>\n",
              "  </tbody>\n",
              "</table>\n",
              "</div>"
            ],
            "text/plain": [
              "                                               title  ... ratings_by_day\n",
              "0  Zynga Poker: Texas Holdem - Online Casino Spie...  ...          372.1\n",
              "1    Governor of Poker 3 : Texas Holdem mit Freunden  ...            NaN\n",
              "\n",
              "[2 rows x 8 columns]"
            ]
          },
          "metadata": {
            "tags": []
          },
          "execution_count": 17
        }
      ]
    },
    {
      "cell_type": "code",
      "metadata": {
        "colab": {
          "base_uri": "https://localhost:8080/"
        },
        "id": "N-kaAJhDaYt7",
        "outputId": "42873609-1121-4936-ed9d-d40adc1fd909"
      },
      "source": [
        "#KPIs: df_growthreviews_by_day and ratings_by_day \n",
        "\n",
        "df_growth.info()"
      ],
      "execution_count": 18,
      "outputs": [
        {
          "output_type": "stream",
          "text": [
            "<class 'pandas.core.frame.DataFrame'>\n",
            "Int64Index: 177 entries, 0 to 176\n",
            "Data columns (total 8 columns):\n",
            " #   Column          Non-Null Count  Dtype  \n",
            "---  ------          --------------  -----  \n",
            " 0   title           177 non-null    object \n",
            " 1   country         177 non-null    object \n",
            " 2   installs_n      133 non-null    float64\n",
            " 3   size_n          177 non-null    object \n",
            " 4   developer       177 non-null    object \n",
            " 5   released        177 non-null    object \n",
            " 6   reviews_by_day  26 non-null     float64\n",
            " 7   ratings_by_day  26 non-null     float64\n",
            "dtypes: float64(3), object(5)\n",
            "memory usage: 12.4+ KB\n"
          ],
          "name": "stdout"
        }
      ]
    },
    {
      "cell_type": "markdown",
      "metadata": {
        "id": "ZuRjJ6-WKw1h"
      },
      "source": [
        "#Next: Connect to DataStudio"
      ]
    }
  ]
}